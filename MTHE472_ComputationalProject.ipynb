{
 "cells": [
  {
   "cell_type": "markdown",
   "metadata": {},
   "source": [
    "# MTHE 472 Computational Project\n",
    "##### Oscar Brown - 20236037 - 12 April 2024"
   ]
  },
  {
   "cell_type": "code",
   "execution_count": 134,
   "metadata": {},
   "outputs": [],
   "source": [
    "import numpy as np\n",
    "from scipy.optimize import linprog\n",
    "from scipy.integrate import quad\n",
    "import matplotlib.pyplot as plt\n",
    "from IPython.display import Image\n",
    "import random\n",
    "import itertools"
   ]
  },
  {
   "cell_type": "markdown",
   "metadata": {},
   "source": [
    "---\n",
    "\n",
    "### **Q1: Value Iteration/Policy Iteration/ Q-Learning/ Convex Analytic Method/ Quantized Q-Learning**"
   ]
  },
  {
   "cell_type": "code",
   "execution_count": 135,
   "metadata": {},
   "outputs": [],
   "source": [
    "# define all globals for 1\n",
    "\n",
    "# hyperparameter values\n",
    "states = {'B', 'G'}\n",
    "actions = {0, 1}\n",
    "beta = 0.5\n",
    "etas = [0.9, 0.7, 0.01]\n",
    "\n",
    "# transtion kernel probabilities \n",
    "def transition_kernel(next_state, current_state, u):\n",
    "    if (next_state == 'G'):\n",
    "        if (current_state == 'G'):\n",
    "            if (u == 1):\n",
    "                return 0.1\n",
    "            elif (u == 0):\n",
    "                return 0.9\n",
    "        elif (current_state == 'B'):\n",
    "            if (u == 1):\n",
    "                return 0.8\n",
    "            elif (u == 0):\n",
    "                return 0.5\n",
    "    elif (next_state == 'B'):\n",
    "        if (current_state == 'G'):\n",
    "            if (u == 1):\n",
    "                return 0.9\n",
    "            elif (u == 0):\n",
    "                return 0.1\n",
    "        elif (current_state == 'B'):\n",
    "            if (u == 1):\n",
    "                return 0.2\n",
    "            elif (u == 0):\n",
    "                return 0.5\n",
    "\n",
    "# cost function\n",
    "def cost(x, u, eta):\n",
    "    if x == 'G' and u == 1:\n",
    "        return -1 + eta * u\n",
    "    else:\n",
    "        return eta * u"
   ]
  },
  {
   "cell_type": "markdown",
   "metadata": {},
   "source": [
    "### a)\n",
    "#### (i) Value iteration"
   ]
  },
  {
   "cell_type": "code",
   "execution_count": 136,
   "metadata": {},
   "outputs": [
    {
     "name": "stdout",
     "output_type": "stream",
     "text": [
      "Results for η = 0.9:\n",
      "Optimal Cost: {'B': -0.04166666666666666, 'G': -0.12499999999999997}\n",
      "Optimal Policy: {'B': 0, 'G': 1}\n",
      "\n",
      "Results for η = 0.7:\n",
      "Optimal Cost: {'B': -0.125, 'G': -0.37500000000000006}\n",
      "Optimal Policy: {'B': 0, 'G': 1}\n",
      "\n",
      "Results for η = 0.01:\n",
      "Optimal Cost: {'B': -0.5725925925925925, 'G': -1.3133333333333332}\n",
      "Optimal Policy: {'B': 1, 'G': 1}\n",
      "\n"
     ]
    }
   ],
   "source": [
    "# value iteration function\n",
    "def value_iteration(eta, beta, states, actions, transition_kernel, num_iterations=10000):\n",
    "    V = {current_state: 0 for current_state in states}\n",
    "    \n",
    "    # iteration algorithm\n",
    "    for _ in range(num_iterations):\n",
    "        V_new = {}\n",
    "        for current_state in states:\n",
    "            V_new[current_state] = min([cost(current_state, a, eta) + beta * sum([transition_kernel(next_state, current_state, a) * V[next_state] for next_state in states]) for a in actions])\n",
    "        V = V_new\n",
    "        \n",
    "    # Derive the optimal policy via value iteration\n",
    "    policy = {}\n",
    "    for current_state in states:\n",
    "        policy[current_state] = np.argmin([cost(current_state, a, eta) + beta * sum([transition_kernel(next_state, current_state, a) * V[next_state] for next_state in states]) for a in actions])\n",
    "\n",
    "    # return optimal cost and optimal policy\n",
    "    return V, policy\n",
    "\n",
    "for eta in etas:\n",
    "    V, policy = value_iteration(eta, beta, states, actions, transition_kernel)\n",
    "    print(f\"Results for η = {eta}:\")\n",
    "    print(f\"Optimal Cost: {V}\")\n",
    "    print(f\"Optimal Policy: {policy}\")\n",
    "    print()"
   ]
  },
  {
   "cell_type": "markdown",
   "metadata": {},
   "source": [
    "#### (ii) Policy iteration"
   ]
  },
  {
   "cell_type": "code",
   "execution_count": 137,
   "metadata": {},
   "outputs": [
    {
     "name": "stdout",
     "output_type": "stream",
     "text": [
      "Results for η = 0.9:\n",
      "Optimal Cost: {'B': -0.04166666666666666, 'G': -0.12499999999999997}\n",
      "Optimal Policy: {'B': 0, 'G': 1}\n",
      "\n",
      "Results for η = 0.7:\n",
      "Optimal Cost: {'B': -0.125, 'G': -0.37500000000000006}\n",
      "Optimal Policy: {'B': 0, 'G': 1}\n",
      "\n",
      "Results for η = 0.01:\n",
      "Optimal Cost: {'B': -0.5725925925925925, 'G': -1.3133333333333332}\n",
      "Optimal Policy: {'B': 1, 'G': 1}\n",
      "\n"
     ]
    }
   ],
   "source": [
    "# policy evaluation function\n",
    "def policy_evaluation(policy, eta, beta, states, actions, transition_kernel, num_iterations=10000):\n",
    "    V = {current_state: 0 for current_state in states}\n",
    "    \n",
    "    # iterative evaluation algorithm\n",
    "    for _ in range(num_iterations):\n",
    "        V_new = {}\n",
    "        \n",
    "        # compute optimal cost\n",
    "        for current_state in states:\n",
    "            a = policy[current_state]\n",
    "            V_new[current_state] = cost(current_state, a, eta) + beta * sum([transition_kernel(next_state, current_state, a) * V[next_state] for next_state in states])\n",
    "        V = V_new\n",
    "        \n",
    "    # return optimal cost\n",
    "    return V\n",
    "\n",
    "# policy iteration function\n",
    "def policy_iteration(eta, beta, states, actions, transition_kernel, num_iterations=10000):\n",
    "    policy = {current_state: 0 for current_state in states}\n",
    "    \n",
    "    # iteration algorithm \n",
    "    for _ in range(num_iterations):\n",
    "        V = policy_evaluation(policy, eta, beta, states, actions, transition_kernel)\n",
    "        policy_stable = True\n",
    "        \n",
    "        # compute optimal policy\n",
    "        for current_state in states:\n",
    "            old_action = policy[current_state]\n",
    "            policy[current_state] = np.argmin([cost(current_state, a, eta) + beta * sum([transition_kernel(next_state, current_state, a) * V[next_state] for next_state in states]) for a in actions])\n",
    "            if old_action != policy[current_state]:\n",
    "                policy_stable = False\n",
    "        if policy_stable:\n",
    "            break\n",
    "    \n",
    "    # return optimal policy and optimal cost\n",
    "    return V, policy\n",
    "\n",
    "for eta in etas:\n",
    "    V, policy = policy_iteration(eta, beta, states, actions, transition_kernel)\n",
    "    print(f\"Results for η = {eta}:\")\n",
    "    print(f\"Optimal Cost: {V}\")\n",
    "    print(f\"Optimal Policy: {policy}\")\n",
    "    print()"
   ]
  },
  {
   "cell_type": "markdown",
   "metadata": {},
   "source": [
    "#### (iii) Q-learning"
   ]
  },
  {
   "cell_type": "code",
   "execution_count": 138,
   "metadata": {},
   "outputs": [
    {
     "name": "stdout",
     "output_type": "stream",
     "text": [
      "Optimal Cost: {'B': -0.01609719295466383, 'G': -0.3043493531253564}\n",
      "Optimal Policy: {'B': 0, 'G': 1}\n"
     ]
    }
   ],
   "source": [
    "# calculate coefficients function\n",
    "def calc_alpha(state, action, history):\n",
    "    total = 1\n",
    "    for item in history:\n",
    "        if item == [state, action]:\n",
    "            total += 1\n",
    "    return 1 / total\n",
    "\n",
    "# Q-learnign function\n",
    "def perform_q_learning(state_space, action_space, trans_kernel, cost_fn, eta_val, discount_factor, num_iterations=10000):\n",
    "    state_mapping = {state: idx for idx, state in enumerate(state_space)}\n",
    "    action_mapping = {action: idx for idx, action in enumerate(action_space)}\n",
    "    Q_table = np.zeros((len(state_space), len(action_space)))\n",
    "    # begin from random state \n",
    "    current_st = np.random.choice(list(state_space))\n",
    "    hist = []\n",
    "\n",
    "    # Q-learning algorithm\n",
    "    for _ in range(num_iterations):\n",
    "        state_idx = state_mapping[current_st]\n",
    "        # control input is either random or selected via Q-optimal policy\n",
    "        if np.random.rand() < 0.1:\n",
    "            selected_action = np.random.choice(list(action_space))\n",
    "        else:\n",
    "            selected_action = np.argmin(Q_table[state_idx, :])\n",
    "        # probabilistic transition to next state \n",
    "        action_idx = action_mapping[selected_action]\n",
    "        hist.append([current_st, selected_action])\n",
    "        next_st_prob = [trans_kernel(next_st, current_st, selected_action) for next_st in state_space]\n",
    "        next_st = np.random.choice(list(state_space), p=next_st_prob)\n",
    "        next_state_idx = state_mapping[next_st]\n",
    "        # update the Q-table\n",
    "        Q_table[state_idx, action_idx] += calc_alpha(current_st, selected_action, hist) * (\n",
    "            cost_fn(current_st, selected_action, eta_val) + discount_factor * np.min(Q_table[next_state_idx, :]) - Q_table[state_idx, action_idx]\n",
    "        )\n",
    "\n",
    "        current_st = next_st\n",
    "\n",
    "    # use Q-table to compute optimal policy and optimal cost\n",
    "    optimal_policy = {state: list(action_space)[np.argmin(Q_table[state_mapping[state], :])] for state in state_space}\n",
    "    optimal_cost = {state: Q_table[state_mapping[state], np.argmin(Q_table[state_mapping[state], :])] for state in state_space}\n",
    "    \n",
    "    # return optimal policy and optimal cost\n",
    "    return optimal_policy, optimal_cost\n",
    "\n",
    "optimal_policy, optimal_cost = perform_q_learning(states, actions, transition_kernel, cost, 0.7, 0.1)\n",
    "print(\"Optimal Cost:\", optimal_cost)\n",
    "print(\"Optimal Policy:\", optimal_policy)"
   ]
  },
  {
   "cell_type": "markdown",
   "metadata": {},
   "source": [
    "For all values of eta, both value iteration and policy iteration converge to the same optimal policy and otptimal costs. \n",
    "For eta = 0.7, value iteration, policy iteration, and Q-learning converge to the same optimal policy and optimal costs."
   ]
  },
  {
   "cell_type": "markdown",
   "metadata": {},
   "source": [
    "### b)"
   ]
  },
  {
   "cell_type": "code",
   "execution_count": 139,
   "metadata": {},
   "outputs": [
    {
     "name": "stdout",
     "output_type": "stream",
     "text": [
      "Granularity Level: 10\n",
      "Optimal Cost: {0.0: 0.0, 0.1: 0.0, 0.2: 0.0, 0.30000000000000004: 0.0, 0.4: 0.0, 0.5: 0.0, 0.6000000000000001: 0.0, 0.7000000000000001: 0.0, 0.8: 0.0, 0.9: 0.0}\n",
      "Optimal Policy: {0.0: 0, 0.1: 0, 0.2: 0, 0.30000000000000004: 0, 0.4: 0, 0.5: 0, 0.6000000000000001: 0, 0.7000000000000001: 0, 0.8: 0, 0.9: 0}\n",
      "Granularity Level: 20\n",
      "Optimal Cost: {0.0: 0.0, 0.05: 0.0, 0.1: 0.0, 0.15000000000000002: 0.0, 0.2: 0.0, 0.25: 0.0, 0.30000000000000004: 0.0, 0.35000000000000003: 0.0, 0.4: 0.0, 0.45: 0.0, 0.5: 0.0, 0.55: 0.0, 0.6000000000000001: 0.0, 0.65: 0.0, 0.7000000000000001: 0.0, 0.75: 0.0, 0.8: 0.0, 0.8500000000000001: 0.0, 0.9: 0.0, 0.9500000000000001: 0.0}\n",
      "Optimal Policy: {0.0: 0, 0.05: 0, 0.1: 0, 0.15000000000000002: 0, 0.2: 0, 0.25: 0, 0.30000000000000004: 0, 0.35000000000000003: 0, 0.4: 0, 0.45: 0, 0.5: 0, 0.55: 0, 0.6000000000000001: 0, 0.65: 0, 0.7000000000000001: 0, 0.75: 0, 0.8: 0, 0.8500000000000001: 0, 0.9: 0, 0.9500000000000001: 0}\n",
      "Granularity Level: 50\n",
      "Optimal Cost: {0.0: 0.0, 0.02: 0.0, 0.04: 0.0, 0.06: 0.0, 0.08: 0.0, 0.1: 0.0, 0.12: 0.0, 0.14: 0.0, 0.16: 0.0, 0.18: 0.0, 0.2: 0.0, 0.22: 0.0, 0.24: 0.0, 0.26: 0.0, 0.28: 0.0, 0.3: 0.0, 0.32: 0.0, 0.34: 0.0, 0.36: 0.0, 0.38: 0.0, 0.4: 0.0, 0.42: 0.0, 0.44: 0.0, 0.46: 0.0, 0.48: 0.0, 0.5: 0.0, 0.52: 0.0, 0.54: 0.0, 0.56: 0.0, 0.58: 0.0, 0.6: 0.0, 0.62: 0.0, 0.64: 0.0, 0.66: 0.0, 0.68: 0.0, 0.7000000000000001: 0.0, 0.72: 0.0, 0.74: 0.0, 0.76: 0.0, 0.78: 0.0, 0.8: 0.0, 0.8200000000000001: 0.0, 0.84: 0.0, 0.86: 0.0, 0.88: 0.0, 0.9: 0.0, 0.92: 0.0, 0.9400000000000001: 0.0, 0.96: 0.0, 0.98: 0.0}\n",
      "Optimal Policy: {0.0: 0, 0.02: 0, 0.04: 0, 0.06: 0, 0.08: 0, 0.1: 0, 0.12: 0, 0.14: 0, 0.16: 0, 0.18: 0, 0.2: 0, 0.22: 0, 0.24: 0, 0.26: 0, 0.28: 0, 0.3: 0, 0.32: 0, 0.34: 0, 0.36: 0, 0.38: 0, 0.4: 0, 0.42: 0, 0.44: 0, 0.46: 0, 0.48: 0, 0.5: 0, 0.52: 0, 0.54: 0, 0.56: 0, 0.58: 0, 0.6: 0, 0.62: 0, 0.64: 0, 0.66: 0, 0.68: 0, 0.7000000000000001: 0, 0.72: 0, 0.74: 0, 0.76: 0, 0.78: 0, 0.8: 0, 0.8200000000000001: 0, 0.84: 0, 0.86: 0, 0.88: 0, 0.9: 0, 0.92: 0, 0.9400000000000001: 0, 0.96: 0, 0.98: 0}\n",
      "Granularity Level: 100\n",
      "Optimal Cost: {0.0: 0.0, 0.01: 0.0, 0.02: 0.0, 0.03: 0.0, 0.04: 0.0, 0.05: 0.0, 0.06: 0.0, 0.07: 0.0, 0.08: 0.0, 0.09: 0.0, 0.1: 0.0, 0.11: 0.0, 0.12: 0.0, 0.13: 0.0, 0.14: 0.0, 0.15: 0.0, 0.16: 0.0, 0.17: 0.0, 0.18: 0.0, 0.19: 0.0, 0.2: 0.0, 0.21: 0.0, 0.22: 0.0, 0.23: 0.0, 0.24: 0.0, 0.25: 0.0, 0.26: 0.0, 0.27: 0.0, 0.28: 0.0, 0.29: 0.0, 0.3: 0.0, 0.31: 0.0, 0.32: 0.0, 0.33: 0.0, 0.34: 0.0, 0.35000000000000003: 0.0, 0.36: 0.0, 0.37: 0.0, 0.38: 0.0, 0.39: 0.0, 0.4: 0.0, 0.41000000000000003: 0.0, 0.42: 0.0, 0.43: 0.0, 0.44: 0.0, 0.45: 0.0, 0.46: 0.0, 0.47000000000000003: 0.0, 0.48: 0.0, 0.49: 0.0, 0.5: 0.0, 0.51: 0.0, 0.52: 0.0, 0.53: 0.0, 0.54: 0.0, 0.55: 0.0, 0.56: 0.0, 0.5700000000000001: 0.0, 0.58: 0.0, 0.59: 0.0, 0.6: 0.0, 0.61: 0.0, 0.62: 0.0, 0.63: 0.0, 0.64: 0.0, 0.65: 0.0, 0.66: 0.0, 0.67: 0.0, 0.68: 0.0, 0.6900000000000001: 0.0, 0.7000000000000001: 0.0, 0.71: 0.0, 0.72: 0.0, 0.73: 0.0, 0.74: 0.0, 0.75: 0.0, 0.76: 0.0, 0.77: 0.0, 0.78: 0.0, 0.79: 0.0, 0.8: 0.0, 0.81: 0.0, 0.8200000000000001: 0.0, 0.8300000000000001: 0.0, 0.84: 0.0, 0.85: 0.0, 0.86: 0.0, 0.87: 0.0, 0.88: 0.0, 0.89: 0.0, 0.9: 0.0, 0.91: 0.0, 0.92: 0.0, 0.93: 0.0, 0.9400000000000001: 0.0, 0.9500000000000001: 0.0, 0.96: 0.0, 0.97: 0.0, 0.98: 0.0, 0.99: 0.0}\n",
      "Optimal Policy: {0.0: 0, 0.01: 0, 0.02: 0, 0.03: 0, 0.04: 0, 0.05: 0, 0.06: 0, 0.07: 0, 0.08: 0, 0.09: 0, 0.1: 0, 0.11: 0, 0.12: 0, 0.13: 0, 0.14: 0, 0.15: 0, 0.16: 0, 0.17: 0, 0.18: 0, 0.19: 0, 0.2: 0, 0.21: 0, 0.22: 0, 0.23: 0, 0.24: 0, 0.25: 0, 0.26: 0, 0.27: 0, 0.28: 0, 0.29: 0, 0.3: 0, 0.31: 0, 0.32: 0, 0.33: 0, 0.34: 0, 0.35000000000000003: 0, 0.36: 0, 0.37: 0, 0.38: 0, 0.39: 0, 0.4: 0, 0.41000000000000003: 0, 0.42: 0, 0.43: 0, 0.44: 0, 0.45: 0, 0.46: 0, 0.47000000000000003: 0, 0.48: 0, 0.49: 0, 0.5: 0, 0.51: 0, 0.52: 0, 0.53: 0, 0.54: 0, 0.55: 0, 0.56: 0, 0.5700000000000001: 0, 0.58: 0, 0.59: 0, 0.6: 0, 0.61: 0, 0.62: 0, 0.63: 0, 0.64: 0, 0.65: 0, 0.66: 0, 0.67: 0, 0.68: 0, 0.6900000000000001: 0, 0.7000000000000001: 0, 0.71: 0, 0.72: 0, 0.73: 0, 0.74: 0, 0.75: 0, 0.76: 0, 0.77: 0, 0.78: 0, 0.79: 0, 0.8: 0, 0.81: 0, 0.8200000000000001: 0, 0.8300000000000001: 0, 0.84: 0, 0.85: 0, 0.86: 0, 0.87: 0, 0.88: 0, 0.89: 0, 0.9: 0, 0.91: 0, 0.92: 0, 0.93: 0, 0.9400000000000001: 0, 0.9500000000000001: 0, 0.96: 0, 0.97: 0, 0.98: 0, 0.99: 0}\n"
     ]
    }
   ],
   "source": [
    "# define transition kernel in context of new problem \n",
    "def transition_kernel_q(bounds, x, u):\n",
    "    lower_bound, upper_bound = bounds\n",
    "    if u == 1:\n",
    "        integrand = lambda z: 2 * (1 - z) if lower_bound <= z <= upper_bound else 0\n",
    "    else:  \n",
    "        integrand = lambda z: 2 * z if lower_bound <= z <= upper_bound else 0\n",
    "    result, _ = quad(integrand, lower_bound, upper_bound)\n",
    "    return result\n",
    "\n",
    "# define cost function in context of new problem \n",
    "def cost(x, u, eta):\n",
    "    return -x * u + eta * u\n",
    "\n",
    "def quantize_state_space(num_states):\n",
    "    return np.linspace(0, 1, num_states + 1)[:-1]\n",
    "\n",
    "# Q-learning funciton\n",
    "def perform_q_learning(state_space, action_space, trans_kernel, cost_fn, eta_val, discount_factor, num_iterations=1000):\n",
    "    state_mapping = {state: idx for idx, state in enumerate(state_space)}\n",
    "    num_states = len(state_space)\n",
    "    num_actions = len(action_space)\n",
    "    Q = np.zeros((num_states, num_actions))\n",
    "    \n",
    "    # Q-learning algorithm \n",
    "    for _ in range(num_iterations):\n",
    "        current_st = np.random.choice(state_space)\n",
    "        current_state_idx = state_mapping[current_st]\n",
    "        selected_action = np.argmax(Q[current_state_idx])\n",
    "        bounds = [(current_st, current_st + 1/num_states) for current_st in state_space]\n",
    "        next_st_prob = [trans_kernel(bounds[state_mapping[current_st]], current_st, selected_action) for current_st in state_space]\n",
    "        next_st_prob = np.array(next_st_prob)\n",
    "        next_st_prob /= next_st_prob.sum()\n",
    "        next_st = np.random.choice(state_space, p=next_st_prob)\n",
    "        next_state_idx = state_mapping[next_st]\n",
    "        Q[current_state_idx, selected_action] += eta_val * (cost_fn(current_st, selected_action) + discount_factor * np.min(Q[next_state_idx]) - Q[current_state_idx, selected_action])\n",
    "    \n",
    "    # use Q-table to compute optimal policy and optimal cost\n",
    "    optimal_policy = {state: action_space[np.argmin(Q[state_mapping[state]])] for state in state_space}\n",
    "    optimal_cost = {state: np.min(Q[state_mapping[state]]) for state in state_space}\n",
    "    \n",
    "    # return optimal policy and optimal cost\n",
    "    return optimal_policy, optimal_cost\n",
    "\n",
    "granularity_levels = [10, 20, 50, 100]\n",
    "\n",
    "for n in granularity_levels:\n",
    "    state_space = quantize_state_space(n)\n",
    "    actions = [0, 1]\n",
    "    cost_fn = lambda x, u: cost(x, u, 0.7) \n",
    "    optimal_policy, optimal_cost = perform_q_learning(state_space, actions, transition_kernel_q, cost_fn, 0.7, 0.1)\n",
    "    print(f\"Granularity Level: {n}\")\n",
    "    print(\"Optimal Cost:\", optimal_cost)\n",
    "    print(\"Optimal Policy:\", optimal_policy)"
   ]
  },
  {
   "cell_type": "markdown",
   "metadata": {},
   "source": [
    "### c)"
   ]
  },
  {
   "cell_type": "code",
   "execution_count": 140,
   "metadata": {},
   "outputs": [
    {
     "name": "stdout",
     "output_type": "stream",
     "text": [
      "Q-table:\n",
      "[[ 0.  -0.7]\n",
      " [ 0.  -1. ]]\n"
     ]
    }
   ],
   "source": [
    "class FadingChannelQlearning:\n",
    "    def __init__(self, eta, alpha=0.1, beta=0.95, epsilon=0.1, num_episodes=1000, max_steps=100):\n",
    "        self.eta = eta\n",
    "        self.alpha = alpha\n",
    "        self.beta = beta\n",
    "        self.epsilon = epsilon\n",
    "        self.num_episodes = num_episodes\n",
    "        self.max_steps = max_steps\n",
    "        self.Q = np.zeros((2, 2))\n",
    "        \n",
    "        self.transitions = {\n",
    "            (0, 0): [1, 0],  # Stys in good state with do nothing\n",
    "            (0, 1): [0.1, 0.9],  # Moves to bad state with high probability when using\n",
    "            (1, 0): [0.5, 0.5],  # Has a chance to recover or stay down with do nothing\n",
    "            (1, 1): [1, 0],  # Stays down when attempting repair, this might need adjusting based on the scenario's logic\n",
    "        }\n",
    "\n",
    "    def choose_action(self, state):\n",
    "        if np.random.rand() < self.epsilon:\n",
    "            return np.random.choice([0, 1])\n",
    "        else:\n",
    "            return np.argmax(self.Q[state])\n",
    "\n",
    "    def update_q(self, state, action, reward, next_state):\n",
    "        future_rewards = np.max(self.Q[next_state])\n",
    "        self.Q[state, action] += self.alpha * (reward + self.beta * future_rewards - self.Q[state, action])\n",
    "\n",
    "    def get_reward(self, state, action):\n",
    "        if state == 1 and action == 1:\n",
    "            return -1\n",
    "        else:\n",
    "            return -self.eta * action\n",
    "\n",
    "    def simulate(self):\n",
    "        for _ in range(self.num_episodes):\n",
    "            state = np.random.choice([0, 1])  \n",
    "            \n",
    "            for _ in range(self.max_steps):\n",
    "                action = self.choose_action(state)\n",
    "                reward = self.get_reward(state, action)\n",
    "                probabilities = self.transitions[(state, action)]\n",
    "                next_state = np.random.choice([0, 1], p=probabilities)\n",
    "                self.update_q(state, action, reward, next_state)\n",
    "                state = next_state  \n",
    "\n",
    "eta = 0.7  # \n",
    "model = FadingChannelQlearning(eta)\n",
    "model.simulate()\n",
    "print(\"Q-table:\")\n",
    "print(model.Q)"
   ]
  },
  {
   "cell_type": "markdown",
   "metadata": {},
   "source": [
    "---\n",
    "\n",
    "### **Q2: Linear Programming for Average Cost Stochastic Control**"
   ]
  },
  {
   "cell_type": "code",
   "execution_count": 142,
   "metadata": {},
   "outputs": [
    {
     "name": "stdout",
     "output_type": "stream",
     "text": [
      "Results for η = 0.9:\n",
      "Optimal Policy: {'G': 0, 'B': 1}\n",
      "\n",
      "Results for η = 0.7:\n",
      "Optimal Policy: {'G': 0, 'B': 1}\n",
      "\n",
      "Results for η = 0.01:\n",
      "Optimal Policy: {'G': 1, 'B': 1}\n",
      "\n"
     ]
    }
   ],
   "source": [
    "# convex analytic function\n",
    "def convex_analytic_method(eta, beta, states, actions, transition_kernel):\n",
    "    # define constraints (probability and transition kernel)\n",
    "    num_vars = len(states) * len(actions)\n",
    "    A_eq = np.zeros((len(states) + 1, num_vars))\n",
    "    A_eq[0, :] = 1\n",
    "\n",
    "    for i, state in enumerate(states):\n",
    "        for u in actions:\n",
    "            A_eq[i + 1, u + 2 * (state == 'G')] = 1 - transition_kernel(state, state, u)\n",
    "            A_eq[i + 1, u + 2 * (state == 'B')] = -transition_kernel(state, 'B' if state == 'G' else 'G', u)\n",
    "\n",
    "    b_eq = np.zeros(len(states) + 1)\n",
    "    b_eq[0] = 1\n",
    "    c = np.array([cost(x, u, eta) for x, u in itertools.product(states, actions)])\n",
    "    res = linprog(c, A_eq=A_eq, b_eq=b_eq)\n",
    "\n",
    "    if res.success:\n",
    "        p = res.x\n",
    "        policy = {}\n",
    "        policy['G'] = round(p[1] / (p[0] + p[1]))\n",
    "        policy['B'] = round(p[3] / (p[2] + p[3]))\n",
    "        return policy\n",
    "    else:\n",
    "        raise ValueError(f\"Optimization failed: {res.message}\")\n",
    "    \n",
    "def cost(x, u, eta):\n",
    "    if x == 'G' and u == 1:\n",
    "        return -1 + eta * u\n",
    "    else:\n",
    "        return eta * u\n",
    "\n",
    "for eta in etas:\n",
    "    policy = convex_analytic_method(eta, beta, states, actions, transition_kernel)\n",
    "    print(f\"Results for η = {eta}:\")\n",
    "    print(f\"Optimal Policy: {policy}\")\n",
    "    print()"
   ]
  },
  {
   "cell_type": "markdown",
   "metadata": {},
   "source": [
    "---\n",
    "\n",
    "### **Q3: The Kalman Filter**\n",
    "### a)"
   ]
  },
  {
   "cell_type": "markdown",
   "metadata": {},
   "source": [
    "Update the state estimate:\n",
    "\n",
    "$$\n",
    "\\tilde{m}_t = A\\tilde{m}_{t-1} + \\Sigma_{t|t-1}C^T\\left[C\\Sigma_{t|t-1}C^T + V\\right]^{-1}(y_t - CA\\tilde{m}_{t-1})\n",
    "$$\n",
    "\n",
    "Update the covariance estimate:\n",
    "\n",
    "$$\n",
    "\\Sigma_{t+1|t} = A\\Sigma_{t|t-1}A^T + W - \\left(A\\Sigma_{t|t-1}C^T\\right)\\left(C\\Sigma_{t|t-1}C^T + V\\right)^{-1}\\left(C\\Sigma_{t|t-1}A^T\\right)\n",
    "$$"
   ]
  },
  {
   "cell_type": "markdown",
   "metadata": {},
   "source": [
    "### b)"
   ]
  },
  {
   "cell_type": "code",
   "execution_count": 143,
   "metadata": {},
   "outputs": [
    {
     "name": "stderr",
     "output_type": "stream",
     "text": [
      "/var/folders/fq/n7jswqss1ll4c6l_f9fmq5f00000gn/T/ipykernel_10751/544023600.py:16: RuntimeWarning: overflow encountered in matmul\n",
      "  x[:, t + 1] = A @ x[:, t] + w\n",
      "/var/folders/fq/n7jswqss1ll4c6l_f9fmq5f00000gn/T/ipykernel_10751/544023600.py:17: RuntimeWarning: invalid value encountered in matmul\n",
      "  y[:, t + 1] = C @ x[:, t + 1] + v\n",
      "/var/folders/fq/n7jswqss1ll4c6l_f9fmq5f00000gn/T/ipykernel_10751/544023600.py:18: RuntimeWarning: overflow encountered in matmul\n",
      "  x_hat_prior = A @ x_hat[:, t]\n",
      "/var/folders/fq/n7jswqss1ll4c6l_f9fmq5f00000gn/T/ipykernel_10751/544023600.py:21: RuntimeWarning: invalid value encountered in matmul\n",
      "  x_hat[:, t + 1] = x_hat_prior + K @ (y[:, t + 1] - C @ x_hat_prior)\n",
      "/var/folders/fq/n7jswqss1ll4c6l_f9fmq5f00000gn/T/ipykernel_10751/544023600.py:16: RuntimeWarning: invalid value encountered in matmul\n",
      "  x[:, t + 1] = A @ x[:, t] + w\n"
     ]
    },
    {
     "data": {
      "image/png": "[encoded data removed]",
      "text/plain": [
       "<Figure size 640x480 with 1 Axes>"
      ]
     },
     "metadata": {},
     "output_type": "display_data"
    },
    {
     "data": {
      "image/png": "[encoded data removed]",
      "text/plain": [
       "<Figure size 640x480 with 1 Axes>"
      ]
     },
     "metadata": {},
     "output_type": "display_data"
    },
    {
     "data": {
      "image/png": "[encoded data removed]",
      "text/plain": [
       "<Figure size 640x480 with 1 Axes>"
      ]
     },
     "metadata": {},
     "output_type": "display_data"
    }
   ],
   "source": [
    "A = np.array([[2, 1, 0, 0], [0, 2, 1, 0], [0, 0, 2, 1], [0, 0, 0, 4]])\n",
    "C = np.array([[2, 0, 0, 0]])\n",
    "Q = np.eye(4)  \n",
    "R = np.array([[1]])\n",
    "T = 1000 \n",
    "x = np.zeros((4, T))\n",
    "y = np.zeros((1, T))\n",
    "x_hat = np.zeros((4, T))\n",
    "Sigma = np.zeros((4, 4, T))\n",
    "x[:, 0] = np.zeros((4,))  \n",
    "Sigma[:, :, 0] = np.eye(4) \n",
    " \n",
    "for t in range(T - 1):\n",
    "    w = np.random.normal(0, 1, (4,))\n",
    "    v = np.random.normal(0, 1, (1,))\n",
    "    x[:, t + 1] = A @ x[:, t] + w\n",
    "    y[:, t + 1] = C @ x[:, t + 1] + v\n",
    "    x_hat_prior = A @ x_hat[:, t]\n",
    "    Sigma_prior = A @ Sigma[:, :, t] @ A.T + Q\n",
    "    K = Sigma_prior @ C.T @ np.linalg.inv(C @ Sigma_prior @ C.T + R)\n",
    "    x_hat[:, t + 1] = x_hat_prior + K @ (y[:, t + 1] - C @ x_hat_prior)\n",
    "    Sigma[:, :, t + 1] = (np.eye(4) - K @ C) @ Sigma_prior\n",
    "\n",
    "plt.figure()\n",
    "plt.plot(x[0, :])\n",
    "plt.xlabel('Time step (t)')\n",
    "plt.ylabel('x_t')\n",
    "plt.title('x_t')\n",
    "plt.show()\n",
    "\n",
    "plt.figure()\n",
    "plt.plot(x_hat[0, :])\n",
    "plt.xlabel('Time step (t)')\n",
    "plt.ylabel('m_t')\n",
    "plt.title('m_t')\n",
    "plt.show()\n",
    "\n",
    "plt.figure()\n",
    "plt.plot(x[0, :] - x_hat[0, :])\n",
    "plt.xlabel('Time step (t)')\n",
    "plt.ylabel('x_t - m_t')\n",
    "plt.title('x_t - m_t')\n",
    "plt.show()"
   ]
  },
  {
   "cell_type": "markdown",
   "metadata": {},
   "source": [
    "### c)"
   ]
  },
  {
   "cell_type": "code",
   "execution_count": 144,
   "metadata": {},
   "outputs": [
    {
     "name": "stdout",
     "output_type": "stream",
     "text": [
      "Controllable: True\n",
      "Observable: True\n",
      "Convergence difference in the final covariance matrices: [[4.94881913e-14 1.80078175e-13 2.05169215e-13 1.52766688e-13]\n",
      " [0.00000000e+00 2.43744580e-10 1.20780896e-09 3.05590220e-09]\n",
      " [0.00000000e+00 1.22236088e-09 5.82076609e-09 1.40862539e-08]\n",
      " [0.00000000e+00 3.08500603e-09 1.40862539e-08 3.32947820e-08]]\n"
     ]
    },
    {
     "data": {
      "image/png": "[encoded data removed]",
      "text/plain": [
       "<Figure size 640x480 with 1 Axes>"
      ]
     },
     "metadata": {},
     "output_type": "display_data"
    }
   ],
   "source": [
    "def check_controllability(A, B):\n",
    "    n = A.shape[0]\n",
    "    controllability_matrix = np.column_stack([B] + [A @ B])\n",
    "    for _ in range(2, n):\n",
    "        controllability_matrix = np.column_stack((controllability_matrix, A @ controllability_matrix[:, -1]))\n",
    "    return np.linalg.matrix_rank(controllability_matrix) == n\n",
    "\n",
    "def check_observability(A, C):\n",
    "    return check_controllability(A.T, C.T)\n",
    "\n",
    "A = np.array([[2, 1, 0], [0, 2, 1], [0, 0, 2]])\n",
    "B = np.eye(3)\n",
    "C = np.array([[4, 0, 0]])\n",
    "controllable = check_controllability(A, B)\n",
    "observable = check_observability(A, C)\n",
    "\n",
    "# Riccati recursions converge to a unique limit under the condition system is both controllable and observable. \n",
    "print(f\"Controllable: {controllable}\")\n",
    "print(f\"Observable: {observable}\")\n",
    "\n",
    "A = np.array([[2, 1, 0, 0], [0, 2, 1, 0], [0, 0, 2, 1], [0, 0, 0, 4]])\n",
    "C = np.array([[2, 0, 0, 0]])\n",
    "B = np.eye(4)\n",
    "Q = np.eye(4) \n",
    "R = np.array([[1]]) \n",
    " # simulation\n",
    "T = 5000\n",
    "Sigma = np.zeros((4, 4, T))\n",
    "Sigma[:, :, 0] = np.eye(4)  \n",
    "\n",
    "def covariance_update(Sigma_prev, A, C, W, V):\n",
    "    Sigma_prior = A @ Sigma_prev @ A.T + W\n",
    "    K = Sigma_prior @ C.T @ np.linalg.inv(C @ Sigma_prior @ C.T + V)\n",
    "    Sigma_next = (np.eye(4) - K @ C) @ Sigma_prior\n",
    "    return Sigma_next\n",
    "\n",
    "for t in range(T - 1):\n",
    "    Sigma[:, :, t + 1] = covariance_update(Sigma[:, :, t], A, C, Q, R)\n",
    "\n",
    "convergence_diff = np.abs(Sigma[:, :, -1] - Sigma[:, :, -2])\n",
    "print(f\"Convergence difference in the final covariance matrices: {convergence_diff}\")\n",
    "\n",
    "plt.figure()\n",
    "plt.plot(np.max(np.abs(np.diff(Sigma, axis=2)), axis=(0, 1)))\n",
    "plt.xlabel('Time step (t)')\n",
    "plt.ylabel('Maximum absolute difference in Sigma')\n",
    "plt.title('Maximum absolute difference in Sigma over time')\n",
    "plt.show()"
   ]
  },
  {
   "cell_type": "markdown",
   "metadata": {},
   "source": [
    "The graph demonstrates that the greatest absolute variation in Sigma steadily approaches zero, suggesting the Riccati recursions stabilize towards a distinct limit. Furthermore, the minimal value of convergence_diff signals that the ultimate covariance matrices have effectively reached convergence.\n",
    "\n",
    "This observation leads us to deduce that the Riccati recursions of the specified system indeed settle at a distinct limit, attributable to the system being both controllable and observable."
   ]
  }
 ],
 "metadata": {
  "kernelspec": {
   "display_name": "Python 3 (ipykernel)",
   "language": "python",
   "name": "python3"
  },
  "language_info": {
   "codemirror_mode": {
    "name": "ipython",
    "version": 3
   },
   "file_extension": ".py",
   "mimetype": "text/x-python",
   "name": "python",
   "nbconvert_exporter": "python",
   "pygments_lexer": "ipython3",
   "version": "3.12.0"
  }
 },
 "nbformat": 4,
 "nbformat_minor": 4
}
